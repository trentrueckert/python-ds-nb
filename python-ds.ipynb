{
 "cells": [
  {
   "cell_type": "markdown",
   "metadata": {},
   "source": [
    "# Web Mining and Applied NLP (44-620)\n",
    "\n",
    "## Python Notebooks, Basics, and Data Structures\n",
    "\n",
    "### Student Name: Trent Rueckert \n",
    "\n",
    "https://github.com/trentrueckert/python-ds-nb\n",
    "\n",
    "Perform the tasks described in the Markdown cells below.  When you have completed the assignment make sure your code cells have all been run (and have output beneath them) and ensure you have committed and pushed ALL of your changes to your assignment repository.\n",
    "\n",
    "Every question that requires you to write code will have a code cell underneath it; you may either write your entire solution in that cell or write it in a python file (`.py`), then import and run the appropriate code to answer the question.\n",
    "\n",
    "Do not use external modules (`math`, etc) for this assignment unless you are explicitly instructed to, though you may use built in python functions (`min`, `max`, etc) as you wish."
   ]
  },
  {
   "cell_type": "markdown",
   "metadata": {},
   "source": [
    "**Question 1.**\n",
    "\n",
    "Modify the Markdown cell above to put your name after \"Student Name:\"; you will be expected to do this in all assignments presented in this format for this class."
   ]
  },
  {
   "cell_type": "markdown",
   "metadata": {},
   "source": [
    "**Question 2.**\n",
    "\n",
    "Write code that divides any two numbers, stores the result in a variable, and prints the result with an appropriate label."
   ]
  },
  {
   "cell_type": "code",
   "execution_count": 1,
   "metadata": {},
   "outputs": [
    {
     "name": "stdout",
     "output_type": "stream",
     "text": [
      "2.0\n"
     ]
    }
   ],
   "source": [
    "a = 4\n",
    "b = 2\n",
    "result = a / b\n",
    "print(result)"
   ]
  },
  {
   "cell_type": "markdown",
   "metadata": {},
   "source": [
    "**Question 3** \n",
    "\n",
    "Using loops (and potentially conditionals), write Python code that prints the factorial of each integer from 1 through 10 (which you can store in a variable if you want). The factorial of an integer is the product of all of the integers of 1 through the number. Print the result with an appropriate label."
   ]
  },
  {
   "cell_type": "code",
   "execution_count": 4,
   "metadata": {},
   "outputs": [
    {
     "name": "stdout",
     "output_type": "stream",
     "text": [
      "The factorial of 1 is 1.\n",
      "The factorial of 2 is 2.\n",
      "The factorial of 3 is 6.\n",
      "The factorial of 4 is 24.\n",
      "The factorial of 5 is 120.\n",
      "The factorial of 6 is 720.\n",
      "The factorial of 7 is 5040.\n",
      "The factorial of 8 is 40320.\n",
      "The factorial of 9 is 362880.\n",
      "The factorial of 10 is 3628800.\n"
     ]
    }
   ],
   "source": [
    "for number in range(1, 11):\n",
    "    factorial = 1\n",
    "\n",
    "    for i in range(1, number+1):\n",
    "        factorial *= i\n",
    "    print(f\"The factorial of {number} is {factorial}.\")"
   ]
  },
  {
   "cell_type": "markdown",
   "metadata": {},
   "source": [
    "**Question 4.** \n",
    "\n",
    "Write a python function that takes a single parameter and calculates and returns the average (mean) of the values in the parameter (which you may assume is iterable).  Show that your function works by printing the result of calling the function on the list in the cell below."
   ]
  },
  {
   "cell_type": "code",
   "execution_count": 6,
   "metadata": {},
   "outputs": [
    {
     "name": "stdout",
     "output_type": "stream",
     "text": [
      "The average of the list [5, 10, 15, 20, 25] is: 15.0.\n"
     ]
    }
   ],
   "source": [
    "testlist = [5, 10, 15, 20, 25]\n",
    "\n",
    "def average_values(values):\n",
    "    return (sum(values)/len(values))\n",
    "\n",
    "average_result = average_values(testlist)\n",
    "\n",
    "print(f\"The average of the list {testlist} is: {average_result}.\")"
   ]
  },
  {
   "cell_type": "markdown",
   "metadata": {},
   "source": [
    "**Question 5.** \n",
    "\n",
    "Using your mean function above, write a function that calculates the variance of the list of numbers (see https://en.wikipedia.org/wiki/Variance for more information on the formula). In short:\n",
    "* subtract the mean of the elements in the list from every element in the list; store these values in a new list\n",
    "* square every element in the new list and sum the elements together\n",
    "* divide the resulting number by N (where N is the length of the original list)\n",
    "\n",
    "Show the result of calling your function in the lists in the code cell. You must use one or more list comprehensions or map/filter in your code.\n"
   ]
  },
  {
   "cell_type": "code",
   "execution_count": 7,
   "metadata": {},
   "outputs": [
    {
     "name": "stdout",
     "output_type": "stream",
     "text": [
      "The variance of list1 is 1.13973309.\n",
      "The variance of list2 is 0.9257232841.\n"
     ]
    }
   ],
   "source": [
    "def average_values(values):\n",
    "    return (sum(values)/len(values))\n",
    "\n",
    "average_result = average_values(testlist)\n",
    "\n",
    "def calculate_variance(values):\n",
    "    mean = average_values(values)\n",
    "    squared_differences = [(a - mean) ** 2 for a in values]\n",
    "    variance = sum(squared_differences) / len(values)\n",
    "    return variance\n",
    "\n",
    "\n",
    "list1 = [ 5.670e-1, -1.480e+0, -5.570e-1, -1.470e+0, 7.340e-1, 1.050e+0, 4.480e-1, 2.570e-1, -1.970e+0, -1.460e+0]\n",
    "list2 = [-1.780e+0, 2.640e-1, 1.160e+0, 9.080e-1, 1.780e+0, 1.080e+0, 1.050e+0, -4.630e-2, 1.520e+0, 5.350e-1]\n",
    "# the variances of both lists should be relatively close to 1 (off by less than .15)\n",
    "\n",
    "variance_list1 = calculate_variance(list1)\n",
    "variance_list2 = calculate_variance(list2)\n",
    "\n",
    "print(f\"The variance of list1 is {variance_list1}.\")\n",
    "print(f\"The variance of list2 is {variance_list2}.\")"
   ]
  },
  {
   "cell_type": "markdown",
   "metadata": {},
   "source": [
    "**Question 6.**\n",
    "\n",
    " Create a list with at least 15 elements in it. Use list slicing to print the following:\n",
    "* The first 5 elements of the list\n",
    "* The last 5 elements of the list\n",
    "* The list reversed (hint, show the entire list with a stride of -1)\n",
    "* Every second element in the list\n",
    "* Every third element in the list (stride of 3)"
   ]
  },
  {
   "cell_type": "code",
   "execution_count": 10,
   "metadata": {},
   "outputs": [
    {
     "name": "stdout",
     "output_type": "stream",
     "text": [
      "The first five numbers: [5, 10, 15, 20, 25]\n",
      "The last five numbers: [55, 60, 65, 70, 75]\n",
      "The list reversed: [75, 70, 65, 60, 55, 50, 45, 40, 35, 30, 25, 20, 15, 10, 5]\n",
      "Every second element: [5, 15, 25, 35, 45, 55, 65, 75]\n",
      "Every third element: [5, 20, 35, 50, 65]\n"
     ]
    }
   ],
   "source": [
    "new_list = [5, 10, 15, 20, 25, 30, 35, 40, 45, 50, 55, 60, 65, 70, 75]\n",
    "\n",
    "first_five = new_list[:5]\n",
    "print(f\"The first five numbers: {first_five}\")\n",
    "\n",
    "last_five = new_list[-5:]\n",
    "print(f\"The last five numbers: {last_five}\")\n",
    "\n",
    "list_reversed = new_list[::-1]\n",
    "print(f\"The list reversed: {list_reversed}\")\n",
    "\n",
    "every_second = new_list[::2]\n",
    "print(f\"Every second element: {every_second}\")\n",
    "\n",
    "every_third = new_list[::3]\n",
    "print(f\"Every third element: {every_third}\")\n"
   ]
  },
  {
   "cell_type": "markdown",
   "metadata": {},
   "source": [
    "**Question 7.** \n",
    "\n",
    "Build a dictionary that contains the following information about this class (with appropriate names as keys):\n",
    "* The name\n",
    "* The course number\n",
    "* The semester/term in which you are taking this course\n",
    "* The number of credit hours this course counts for\n",
    "* A list of the course learning objectives\n",
    "\n",
    "The majority of this information can be found in the syllabus. Print the dictionary."
   ]
  },
  {
   "cell_type": "code",
   "execution_count": 11,
   "metadata": {},
   "outputs": [
    {
     "name": "stdout",
     "output_type": "stream",
     "text": [
      "{'name': 'Web Mining and Applied Natural Language Processing (NLP)', 'course_number': '44-620', 'term': 'Fall', 'credit_hours': 3, 'learning_objectives': ['L01. Manage Python libraries and packages', 'L02. Interact with Hosted Version Control Systems (e.g. Git and GitHub)', 'L03. Programmatically obtain and transform data from web-based APIs and HTML pages into a usable form', 'L04. Describe the steps in a basic Natural Language Processing Pipeline', 'L05. Use preexisting tools and software libraries to perform some Natural Language Processing, such as sentiment analysis', 'L06. Explain results and conclusions drawn from the visualized information']}\n"
     ]
    }
   ],
   "source": [
    "class_information = {\n",
    "    \"name\": \"Web Mining and Applied Natural Language Processing (NLP)\",\n",
    "    \"course_number\": \"44-620\",\n",
    "    \"term\": \"Fall\",\n",
    "    \"credit_hours\": 3,\n",
    "    \"learning_objectives\": [\"L01. Manage Python libraries and packages\",\n",
    "                            \"L02. Interact with Hosted Version Control Systems (e.g. Git and GitHub)\",\n",
    "                            \"L03. Programmatically obtain and transform data from web-based APIs and HTML pages into a usable form\",\n",
    "                            \"L04. Describe the steps in a basic Natural Language Processing Pipeline\",\n",
    "                            \"L05. Use preexisting tools and software libraries to perform some Natural Language Processing, such as sentiment analysis\",\n",
    "                            \"L06. Explain results and conclusions drawn from the visualized information\"]}\n",
    "\n",
    "print(class_information)"
   ]
  },
  {
   "cell_type": "markdown",
   "metadata": {},
   "source": [
    "**Question 8.** \n",
    "\n",
    "Given the dictionary defined in the code cell below, print the list of level 3 spells the character has."
   ]
  },
  {
   "cell_type": "code",
   "execution_count": 12,
   "metadata": {},
   "outputs": [
    {
     "name": "stdout",
     "output_type": "stream",
     "text": [
      "Level 3 spells: ['Mass Healing Word', 'Nondetection', 'Revivify', 'Feign Death', 'Speak with Dead']\n"
     ]
    }
   ],
   "source": [
    "player_character = {'name': 'Kitab',\n",
    "                   'class': [('Cleric: Knowledge', 7)],\n",
    "                   'spells': {'cantrip': ['Guidance', 'Light', 'Thaumaturgy', 'Toll the Dead', 'Word of Radiance'],\n",
    "                             'level 1': ['Command', 'Detect Magic', 'Healing Word', 'Identify', 'Sleep'],\n",
    "                             'level 2': ['Augury', 'Calm Emotions', 'Command', 'Invisibility', 'Lesser Restoration'],\n",
    "                             'level 3': ['Mass Healing Word', 'Nondetection', 'Revivify', 'Feign Death', 'Speak with Dead'],\n",
    "                             'level 4': ['Banishment', 'Confusion']}\n",
    "                   }\n",
    "\n",
    "level_3_spells = player_character['spells']['level 3']\n",
    "print(f\"Level 3 spells: {level_3_spells}\")"
   ]
  },
  {
   "cell_type": "markdown",
   "metadata": {},
   "source": [
    "**Question 9.** \n",
    "\n",
    "Write code to determine the number of unique elements in the list below.  You MUST use a set in finding your solution.  Print the number of unique values in the list with an appropriate label."
   ]
  },
  {
   "cell_type": "code",
   "execution_count": 13,
   "metadata": {},
   "outputs": [
    {
     "name": "stdout",
     "output_type": "stream",
     "text": [
      "Number of unique values: 12\n"
     ]
    }
   ],
   "source": [
    "values = [10, 11, 10, 8, 1, 12, 0, 1, 6, 5, 5, 13, 6, 15, 0, 0, 1, 1, 9, 7]\n",
    "\n",
    "unique_elements = set(values)\n",
    "\n",
    "number_unique = len(unique_elements)\n",
    "\n",
    "print(f\"Number of unique values: {number_unique}\")"
   ]
  },
  {
   "cell_type": "markdown",
   "metadata": {},
   "source": [
    "10. Create a new Jupyter Notebook (the name of the notebook should be your S number). Add a Markdown cell that contains your name. Add a Code cell and write Python that uses loops to draw the following pattern:\n",
    "\n",
    "```\n",
    "*      *\n",
    "**    **\n",
    "***  ***\n",
    "********\n",
    "```\n",
    "Make sure to add and submit both the new notebook and the changes to this notebook for this assignment."
   ]
  }
 ],
 "metadata": {
  "kernelspec": {
   "display_name": ".venv",
   "language": "python",
   "name": "python3"
  },
  "language_info": {
   "codemirror_mode": {
    "name": "ipython",
    "version": 3
   },
   "file_extension": ".py",
   "mimetype": "text/x-python",
   "name": "python",
   "nbconvert_exporter": "python",
   "pygments_lexer": "ipython3",
   "version": "3.12.5"
  }
 },
 "nbformat": 4,
 "nbformat_minor": 4
}
